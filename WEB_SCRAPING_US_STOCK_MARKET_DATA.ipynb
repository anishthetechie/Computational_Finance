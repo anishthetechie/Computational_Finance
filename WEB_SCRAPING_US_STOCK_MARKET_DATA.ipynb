{
  "nbformat": 4,
  "nbformat_minor": 0,
  "metadata": {
    "colab": {
      "provenance": [],
      "authorship_tag": "ABX9TyPM/sIQkA0x7AdArRiBS/0v",
      "include_colab_link": true
    },
    "kernelspec": {
      "name": "python3",
      "display_name": "Python 3"
    },
    "language_info": {
      "name": "python"
    }
  },
  "cells": [
    {
      "cell_type": "markdown",
      "metadata": {
        "id": "view-in-github",
        "colab_type": "text"
      },
      "source": [
        "<a href=\"https://colab.research.google.com/github/anishthetechie/Computational_Finance/blob/main/WEB_SCRAPING_US_STOCK_MARKET_DATA.ipynb\" target=\"_parent\"><img src=\"https://colab.research.google.com/assets/colab-badge.svg\" alt=\"Open In Colab\"/></a>"
      ]
    },
    {
      "cell_type": "code",
      "execution_count": 3,
      "metadata": {
        "colab": {
          "base_uri": "https://localhost:8080/"
        },
        "id": "aYw8Nz8fQ_s1",
        "outputId": "d233c5a6-aa64-4b70-e9ab-b22d09553168"
      },
      "outputs": [
        {
          "output_type": "stream",
          "name": "stdout",
          "text": [
            "Requirement already satisfied: textblob in /usr/local/lib/python3.11/dist-packages (0.19.0)\n",
            "Requirement already satisfied: nltk>=3.9 in /usr/local/lib/python3.11/dist-packages (from textblob) (3.9.1)\n",
            "Requirement already satisfied: click in /usr/local/lib/python3.11/dist-packages (from nltk>=3.9->textblob) (8.1.8)\n",
            "Requirement already satisfied: joblib in /usr/local/lib/python3.11/dist-packages (from nltk>=3.9->textblob) (1.4.2)\n",
            "Requirement already satisfied: regex>=2021.8.3 in /usr/local/lib/python3.11/dist-packages (from nltk>=3.9->textblob) (2024.11.6)\n",
            "Requirement already satisfied: tqdm in /usr/local/lib/python3.11/dist-packages (from nltk>=3.9->textblob) (4.67.1)\n"
          ]
        }
      ],
      "source": [
        "import yfinance as yf\n",
        "!pip install textblob\n",
        "import requests\n",
        "from bs4 import BeautifulSoup\n",
        "import pandas as pd\n",
        "from textblob import TextBlob\n",
        "\n",
        "# Function to get stock data\n",
        "def get_stock_data(ticker):\n",
        "    stock = yf.Ticker(ticker)\n",
        "    data = stock.history(period=\"1d\", interval=\"1h\")\n",
        "    return data\n",
        "\n",
        "# Function to scrape news headlines\n",
        "def get_news(ticker):\n",
        "    url = f'https://finance.yahoo.com/quote/{ticker}?p={ticker}&.tsrc=fin-srch'\n",
        "    headers = {'User-Agent': 'Mozilla/5.0'}\n",
        "    response = requests.get(url, headers=headers)\n",
        "    soup = BeautifulSoup(response.text, 'html.parser')\n",
        "\n",
        "    headlines = []\n",
        "    for item in soup.find_all('h3', {'class': 'Mb(5px)'}):\n",
        "        link = item.find('a')\n",
        "        if link:\n",
        "            headlines.append(link.text)\n",
        "\n",
        "    return headlines\n",
        "\n",
        "# Function for sentiment analysis\n",
        "def analyze_sentiment(headlines):\n",
        "    sentiments = []\n",
        "    for headline in headlines:\n",
        "        sentiment = TextBlob(headline).sentiment.polarity\n",
        "        sentiments.append((headline, sentiment))\n",
        "    return sentiments"
      ]
    },
    {
      "cell_type": "code",
      "source": [
        "if __name__ == \"__main__\":\n",
        "    ticker = input(\"Enter stock ticker (e.g., AAPL, TSLA, MSFT): \")\n",
        "\n",
        "    print(\"\\nFetching stock data...\")\n",
        "    stock_data = get_stock_data(ticker)\n",
        "    print(stock_data.tail())\n",
        "\n",
        "    print(\"\\nFetching latest news headlines...\")\n",
        "    headlines = get_news(ticker)\n",
        "\n",
        "    print(\"\\nPerforming sentiment analysis...\")\n",
        "    sentiment_results = analyze_sentiment(headlines)"
      ],
      "metadata": {
        "colab": {
          "base_uri": "https://localhost:8080/"
        },
        "id": "bXDY7J32k7hT",
        "outputId": "ee9edb73-186e-4e5c-991a-132795cad7b3"
      },
      "execution_count": 2,
      "outputs": [
        {
          "output_type": "stream",
          "name": "stdout",
          "text": [
            "Enter stock ticker (e.g., AAPL, TSLA, MSFT): MSFT\n",
            "\n",
            "Fetching stock data...\n",
            "                                 Open        High         Low       Close  \\\n",
            "Datetime                                                                    \n",
            "2025-02-10 11:30:00-05:00  415.119995  415.119995  412.059998  412.075012   \n",
            "2025-02-10 12:30:00-05:00  412.089996  413.049988  411.869995  412.799988   \n",
            "2025-02-10 13:30:00-05:00  412.815002  413.089996  411.880005  412.059998   \n",
            "2025-02-10 14:30:00-05:00  412.083801  412.459991  410.920013  411.494995   \n",
            "2025-02-10 15:30:00-05:00  411.470001  411.971497  411.459991  411.869995   \n",
            "\n",
            "                            Volume  Dividends  Stock Splits  \n",
            "Datetime                                                     \n",
            "2025-02-10 11:30:00-05:00  1108639        0.0           0.0  \n",
            "2025-02-10 12:30:00-05:00   915575        0.0           0.0  \n",
            "2025-02-10 13:30:00-05:00   907477        0.0           0.0  \n",
            "2025-02-10 14:30:00-05:00  1468408        0.0           0.0  \n",
            "2025-02-10 15:30:00-05:00   175274        0.0           0.0  \n",
            "\n",
            "Fetching latest news headlines...\n",
            "\n",
            "Performing sentiment analysis...\n"
          ]
        }
      ]
    }
  ]
}